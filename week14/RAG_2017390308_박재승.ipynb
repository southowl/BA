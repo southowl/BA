{
 "cells": [
  {
   "cell_type": "markdown",
   "metadata": {},
   "source": [
    "라이브러리 임포트"
   ]
  },
  {
   "cell_type": "code",
   "execution_count": 2,
   "metadata": {},
   "outputs": [
    {
     "name": "stdout",
     "output_type": "stream",
     "text": [
      "WARNING:tensorflow:From c:\\Users\\js351\\AppData\\Local\\Programs\\Python\\Python312\\Lib\\site-packages\\tf_keras\\src\\losses.py:2976: The name tf.losses.sparse_softmax_cross_entropy is deprecated. Please use tf.compat.v1.losses.sparse_softmax_cross_entropy instead.\n",
      "\n"
     ]
    }
   ],
   "source": [
    "from transformers import AutoTokenizer, AutoModelForQuestionAnswering\n",
    "from sentence_transformers import SentenceTransformer\n",
    "import faiss\n",
    "import numpy as np\n",
    "import torch"
   ]
  },
  {
   "cell_type": "markdown",
   "metadata": {},
   "source": [
    "데이터 로드 및 분리"
   ]
  },
  {
   "cell_type": "code",
   "execution_count": 3,
   "metadata": {},
   "outputs": [
    {
     "name": "stdout",
     "output_type": "stream",
     "text": [
      "텍스트 분리 완료: 8개의 문장\n",
      "['디지털경영, 융합의 시대를 주도합니다.', '디지털경영전공은 다양한 배경을 가진 학생들이 모여 함께 성장하는 곳입니다. 전공과목은 프로그래밍과 데이터 분석에 필요한 기초 개념과 실습을 체계적으로 학습하도록 구성되어 있습니다. 때문에 문과 출신이더라도 열정과 노력으로 데이터 분석과 프로그래밍을 익힐 수 있습니다. 빅데이터와 인공지능의 기초를 익히고 기업 경영에 활용하는 방법을 익힌다면 여러분 앞에는 성공을 위한 무한한 가능성이 열릴 것입니다. 배우고자 하는 의지가 있고, 열정이 넘치는 모든 학생을 환영합니다.', '데이터 분석, 이제는 선택이 아니라 필수입니다.', '과거에 컴맹이라는 말이 있었다면, 이제는 \"데이터맹\"이라는 말을 듣는 시대가 올 것입니다. 기업이 책에 나오는 경영학 이론을 통해 의사결정을 하거나, 몇몇 담당자의 경험에 의존해 의사결정을 하는 시대는 끝났습니다. 기업의 모든 활동이 빅데이터로 축적되며 데이터를 효과적으로 수집, 분석, 활용하여 중요한 의사결정을 하는 Data driven decision making 시대입니다. 따라서, 경영학을 공부하는 학생들에게 데이터분석 능력은 기본 중의 기본이 되었습니다.', '빅데이터 인공지능과 경영학의 만남을 추구합니다.', '디지털경영전공은 데이터 분석 능력과 비즈니스 마인드를 겸비한 실무 융합형 인재 양성을 목표로 하고 있습니다. 빅데이터와 인공지능 기술을 마케팅, 금융, 인사조직, 생산운영관리 등 다양한 비즈니스 분야에 적용하여 기업의 성과 향상과 새로운 가치 창출에 기여합니다. 학생들은 머신러닝, 딥러닝, 비쥬얼라이제이션, 최적화 등의 최신 기술을 활용하여 데이터를 분석하고 인사이트를 도출하는 실습 경험을 통해 실무 역량을 강화할 수 있습니다.', '빅데이터 분석을 통해 가치를 창출하는 DATA ANALYST', '기업에서 필요한 가치는 인사이트를 통한 비즈니스 액션에 의해 창출됩니다. 빅데이터는 단순히 많이 모아 놓는다고, 기업에게 필요한 가치를 창출 할 수가 없습니다. 때문에 빅데이터로부터 패턴을 찾거나 의미를 찾아 비즈니스에 적용하는 과정이 필요합니다. 바로 이 빅데이터의 특정 패턴이나 의미에서 인사이트(insight)를 얻는 데이터 분석을 DATA ANALYST가 수행하게 됩니다']\n"
     ]
    }
   ],
   "source": [
    "data = \"C:/GBAW14/Intro.txt\"  # 파일 경로\n",
    "with open(data, \"r\", encoding=\"utf-8\") as d:\n",
    "    text = d.read()\n",
    "\n",
    "# 텍스트를 문장 단위로 분리\n",
    "texts = text.strip().split(\"\\n\")\n",
    "print(f\"텍스트 분리 완료: {len(texts)}개의 문장\")\n",
    "print(texts)\n"
   ]
  },
  {
   "cell_type": "markdown",
   "metadata": {},
   "source": [
    "임베딩 모델 로드 및 문장 임베딩 생성"
   ]
  },
  {
   "cell_type": "code",
   "execution_count": 4,
   "metadata": {},
   "outputs": [
    {
     "name": "stdout",
     "output_type": "stream",
     "text": [
      "FAISS 인덱스 생성 완료: 8개의 벡터 추가\n",
      "[[-0.17000909  0.18103468 -0.05705997 ... -0.11454999  0.4161579\n",
      "  -0.08160289]\n",
      " [ 0.11373063  0.16334301 -0.16447408 ... -0.06636404  0.09914879\n",
      "  -0.08742449]\n",
      " [-0.12620933  0.27438313 -0.14733443 ...  0.08832772  0.29353812\n",
      "  -0.03603112]\n",
      " ...\n",
      " [-0.05885859  0.18100345 -0.1944327  ... -0.09648705  0.15431458\n",
      "  -0.05758542]\n",
      " [-0.18976808  0.10674233 -0.3034333  ... -0.17258222 -0.17873438\n",
      "  -0.11350576]\n",
      " [-0.05061139  0.01395016 -0.23039877 ... -0.11627313  0.18779449\n",
      "  -0.16345209]]\n"
     ]
    }
   ],
   "source": [
    "# SentenceTransformer 모델 로드\n",
    "embedding_model = SentenceTransformer(\"sentence-transformers/paraphrase-multilingual-MiniLM-L12-v2\")\n",
    "\n",
    "# 문장 임베딩 생성\n",
    "embeddings = embedding_model.encode(texts)\n",
    "\n",
    "# FAISS 인덱스 생성\n",
    "dimension = embeddings.shape[1]\n",
    "index = faiss.IndexFlatIP(dimension)  # Inner Product 기반 (코사인 유사도 계산)\n",
    "index.add(np.array(embeddings))\n",
    "print(f\"FAISS 인덱스 생성 완료: {len(texts)}개의 벡터 추가\")\n",
    "print(embeddings)\n"
   ]
  },
  {
   "cell_type": "markdown",
   "metadata": {},
   "source": [
    "KoBERT 질문/답변 "
   ]
  },
  {
   "cell_type": "code",
   "execution_count": 5,
   "metadata": {},
   "outputs": [],
   "source": [
    "model_name = \"monologg/koelectra-base-v3-finetuned-korquad\"  \n",
    "tokenizer = AutoTokenizer.from_pretrained(model_name)\n",
    "qa_model = AutoModelForQuestionAnswering.from_pretrained(model_name)\n",
    "\n",
    "# 질문/답변 함수 \n",
    "def answer_question_koelectra(question, context):\n",
    "    inputs = tokenizer.encode_plus(question, context, return_tensors=\"pt\")\n",
    "    input_ids = inputs[\"input_ids\"]\n",
    "    token_type_ids = inputs[\"token_type_ids\"]\n",
    "\n",
    "    with torch.no_grad():\n",
    "        outputs = qa_model(input_ids=input_ids, token_type_ids=token_type_ids)\n",
    "        start_scores = outputs.start_logits\n",
    "        end_scores = outputs.end_logits\n",
    "\n",
    "    start_idx = torch.argmax(start_scores)\n",
    "    end_idx = torch.argmax(end_scores) + 1\n",
    "    answer = tokenizer.decode(input_ids[0][start_idx:end_idx])\n",
    "    return answer\n"
   ]
  },
  {
   "cell_type": "markdown",
   "metadata": {},
   "source": [
    "검색 및 질문/답변"
   ]
  },
  {
   "cell_type": "code",
   "execution_count": 6,
   "metadata": {},
   "outputs": [
    {
     "name": "stdout",
     "output_type": "stream",
     "text": [
      "질문: 디지털경영전공의 목표는 무엇인가요?\n",
      "답변: 실무 융합형 인재 양성\n",
      "참조 문장:\n",
      "- 디지털경영, 융합의 시대를 주도합니다. (유사도: 11.50)\n",
      "- 디지털경영전공은 데이터 분석 능력과 비즈니스 마인드를 겸비한 실무 융합형 인재 양성을 목표로 하고 있습니다. 빅데이터와 인공지능 기술을 마케팅, 금융, 인사조직, 생산운영관리 등 다양한 비즈니스 분야에 적용하여 기업의 성과 향상과 새로운 가치 창출에 기여합니다. 학생들은 머신러닝, 딥러닝, 비쥬얼라이제이션, 최적화 등의 최신 기술을 활용하여 데이터를 분석하고 인사이트를 도출하는 실습 경험을 통해 실무 역량을 강화할 수 있습니다. (유사도: 10.09)\n",
      "- 디지털경영전공은 다양한 배경을 가진 학생들이 모여 함께 성장하는 곳입니다. 전공과목은 프로그래밍과 데이터 분석에 필요한 기초 개념과 실습을 체계적으로 학습하도록 구성되어 있습니다. 때문에 문과 출신이더라도 열정과 노력으로 데이터 분석과 프로그래밍을 익힐 수 있습니다. 빅데이터와 인공지능의 기초를 익히고 기업 경영에 활용하는 방법을 익힌다면 여러분 앞에는 성공을 위한 무한한 가능성이 열릴 것입니다. 배우고자 하는 의지가 있고, 열정이 넘치는 모든 학생을 환영합니다. (유사도: 10.04)\n",
      "질문: 기업에서 필요한 가치는 무엇인가요?\n",
      "답변: 인사이트\n",
      "참조 문장:\n",
      "- 기업에서 필요한 가치는 인사이트를 통한 비즈니스 액션에 의해 창출됩니다. 빅데이터는 단순히 많이 모아 놓는다고, 기업에게 필요한 가치를 창출 할 수가 없습니다. 때문에 빅데이터로부터 패턴을 찾거나 의미를 찾아 비즈니스에 적용하는 과정이 필요합니다. 바로 이 빅데이터의 특정 패턴이나 의미에서 인사이트(insight)를 얻는 데이터 분석을 DATA ANALYST가 수행하게 됩니다 (유사도: 8.43)\n",
      "- 빅데이터 인공지능과 경영학의 만남을 추구합니다. (유사도: 7.08)\n",
      "- 디지털경영전공은 데이터 분석 능력과 비즈니스 마인드를 겸비한 실무 융합형 인재 양성을 목표로 하고 있습니다. 빅데이터와 인공지능 기술을 마케팅, 금융, 인사조직, 생산운영관리 등 다양한 비즈니스 분야에 적용하여 기업의 성과 향상과 새로운 가치 창출에 기여합니다. 학생들은 머신러닝, 딥러닝, 비쥬얼라이제이션, 최적화 등의 최신 기술을 활용하여 데이터를 분석하고 인사이트를 도출하는 실습 경험을 통해 실무 역량을 강화할 수 있습니다. (유사도: 6.17)\n"
     ]
    }
   ],
   "source": [
    "# 검색 함수 \n",
    "def search(query, top_k=3):\n",
    "    query_embedding = embedding_model.encode([query])\n",
    "    distances, indices = index.search(np.array(query_embedding), top_k)\n",
    "    return [(texts[i], distances[0][j]) for j, i in enumerate(indices[0])]\n",
    "\n",
    "# 질문/답변 함수 \n",
    "def answer_question(query):\n",
    "    retrieved_sentences = search(query, top_k=3)\n",
    "    context = \" \".join([sent[0] for sent in retrieved_sentences])\n",
    "    \n",
    "    # KoBERT QA \n",
    "    answer = answer_question_koelectra(query, context)\n",
    "    return answer, retrieved_sentences\n",
    "\n",
    "question = \"디지털경영전공의 목표는 무엇인가요?\"\n",
    "answer, retrieved = answer_question(question)\n",
    "\n",
    "print(\"질문:\", question)\n",
    "print(\"답변:\", answer)\n",
    "print(\"참조 문장:\")\n",
    "for sent, dist in retrieved:\n",
    "    print(f\"- {sent} (유사도: {dist:.2f})\")\n",
    "\n",
    "question = \"기업에서 필요한 가치는 무엇인가요?\"\n",
    "answer, retrieved = answer_question(question)\n",
    "\n",
    "print(\"질문:\", question)\n",
    "print(\"답변:\", answer)\n",
    "print(\"참조 문장:\")\n",
    "for sent, dist in retrieved:\n",
    "    print(f\"- {sent} (유사도: {dist:.2f})\")"
   ]
  }
 ],
 "metadata": {
  "kernelspec": {
   "display_name": "Python 3",
   "language": "python",
   "name": "python3"
  },
  "language_info": {
   "codemirror_mode": {
    "name": "ipython",
    "version": 3
   },
   "file_extension": ".py",
   "mimetype": "text/x-python",
   "name": "python",
   "nbconvert_exporter": "python",
   "pygments_lexer": "ipython3",
   "version": "3.12.6"
  }
 },
 "nbformat": 4,
 "nbformat_minor": 2
}
